{
 "cells": [
  {
   "cell_type": "markdown",
   "metadata": {},
   "source": [
    "## Split"
   ]
  },
  {
   "cell_type": "code",
   "execution_count": 4,
   "metadata": {},
   "outputs": [],
   "source": [
    "import pandas as pd\n",
    "from pkg.wsi_mil.deepmil.aide_csv_maker import test_stratif"
   ]
  },
  {
   "cell_type": "code",
   "execution_count": 9,
   "metadata": {},
   "outputs": [],
   "source": [
    "tile_folder = \"/cluster/CBIO/data1/ablondel1/WSI_vesper_data/Embeddings/Ctranspath/tiles/\"  \n",
    "\n",
    "df = pd.read_excel(\"/cluster/CBIO/data1/ablondel1/WSI_vesper_data/2023-05-09 Cas VESPER avec annotation QuPath.xlsx\")\n",
    "contour_df = pd.read_excel(\"/cluster/CBIO/data1/ablondel1/WSI_vesper_data/Selected_Contour_annotation.xlsx\")\n",
    "new_df = df[df[\"ID_VESPER\"].isin(contour_df[\"zone_id\"].unique())]\n",
    "new_df = new_df.rename(columns={\"ID_VESPER\": \"zone_id\", \"Consensus classification\": \"target\", \"ID patient\": \"patient_id\"})\n",
    "# new_df = new_df[~new_df[\"target\"].isin(['NE.like', 'LumNS'])]\n",
    "new_df = new_df.reset_index(drop=True)"
   ]
  },
  {
   "cell_type": "code",
   "execution_count": 10,
   "metadata": {},
   "outputs": [
    {
     "data": {
      "text/html": [
       "<div>\n",
       "<style scoped>\n",
       "    .dataframe tbody tr th:only-of-type {\n",
       "        vertical-align: middle;\n",
       "    }\n",
       "\n",
       "    .dataframe tbody tr th {\n",
       "        vertical-align: top;\n",
       "    }\n",
       "\n",
       "    .dataframe thead th {\n",
       "        text-align: right;\n",
       "    }\n",
       "</style>\n",
       "<table border=\"1\" class=\"dataframe\">\n",
       "  <thead>\n",
       "    <tr style=\"text-align: right;\">\n",
       "      <th></th>\n",
       "      <th>Run</th>\n",
       "      <th>patient_id</th>\n",
       "      <th>zone_id</th>\n",
       "      <th>Prélèvement</th>\n",
       "      <th>Envoi plateforme ARN</th>\n",
       "      <th>Date d'envoi ARN</th>\n",
       "      <th>dV200</th>\n",
       "      <th>Extractions faites ?</th>\n",
       "      <th>3'RNAseq trouble</th>\n",
       "      <th>target</th>\n",
       "      <th>Separation level</th>\n",
       "      <th>topWeightedClass</th>\n",
       "      <th>Subtype diversity</th>\n",
       "      <th>Histological type</th>\n",
       "      <th>Zone annotée ?</th>\n",
       "      <th>Unnamed: 15</th>\n",
       "      <th>Unnamed: 16</th>\n",
       "    </tr>\n",
       "  </thead>\n",
       "  <tbody>\n",
       "    <tr>\n",
       "      <th>0</th>\n",
       "      <td>D243</td>\n",
       "      <td>2</td>\n",
       "      <td>VB002_z1</td>\n",
       "      <td>RTUV</td>\n",
       "      <td>Oui</td>\n",
       "      <td>2019-11-18</td>\n",
       "      <td>53</td>\n",
       "      <td>NaN</td>\n",
       "      <td>NaN</td>\n",
       "      <td>Ba.Sq</td>\n",
       "      <td>0.743915</td>\n",
       "      <td>Ba.Sq</td>\n",
       "      <td>0.489881</td>\n",
       "      <td>epidermoid</td>\n",
       "      <td>Non</td>\n",
       "      <td>Je n'arrive pas à bien distinguer les zones su...</td>\n",
       "      <td>NaN</td>\n",
       "    </tr>\n",
       "    <tr>\n",
       "      <th>1</th>\n",
       "      <td>D243</td>\n",
       "      <td>2</td>\n",
       "      <td>VB002_z2</td>\n",
       "      <td>RTUV</td>\n",
       "      <td>Oui</td>\n",
       "      <td>2019-11-18</td>\n",
       "      <td>32</td>\n",
       "      <td>NaN</td>\n",
       "      <td>NaN</td>\n",
       "      <td>Ba.Sq</td>\n",
       "      <td>0.759953</td>\n",
       "      <td>Ba.Sq</td>\n",
       "      <td>0.845784</td>\n",
       "      <td>sarcomatoid</td>\n",
       "      <td>Non</td>\n",
       "      <td>Je n'arrive pas à bien distinguer les zones su...</td>\n",
       "      <td>NaN</td>\n",
       "    </tr>\n",
       "    <tr>\n",
       "      <th>2</th>\n",
       "      <td>D670</td>\n",
       "      <td>4</td>\n",
       "      <td>VB004</td>\n",
       "      <td>RTUV</td>\n",
       "      <td>Oui</td>\n",
       "      <td>2021-04-19</td>\n",
       "      <td>22.2</td>\n",
       "      <td>NaN</td>\n",
       "      <td>NaN</td>\n",
       "      <td>Ba.Sq</td>\n",
       "      <td>0.371169</td>\n",
       "      <td>Ba.Sq</td>\n",
       "      <td>0.972778</td>\n",
       "      <td>conventional</td>\n",
       "      <td>Oui</td>\n",
       "      <td>NaN</td>\n",
       "      <td>NaN</td>\n",
       "    </tr>\n",
       "    <tr>\n",
       "      <th>3</th>\n",
       "      <td>D243</td>\n",
       "      <td>5</td>\n",
       "      <td>VB005_z1</td>\n",
       "      <td>RTUV</td>\n",
       "      <td>Oui</td>\n",
       "      <td>2019-11-18</td>\n",
       "      <td>21</td>\n",
       "      <td>NaN</td>\n",
       "      <td>NaN</td>\n",
       "      <td>LumU</td>\n",
       "      <td>0.488373</td>\n",
       "      <td>LumU</td>\n",
       "      <td>1.328375</td>\n",
       "      <td>conventional</td>\n",
       "      <td>Oui</td>\n",
       "      <td>NaN</td>\n",
       "      <td>NaN</td>\n",
       "    </tr>\n",
       "    <tr>\n",
       "      <th>4</th>\n",
       "      <td>D611</td>\n",
       "      <td>6</td>\n",
       "      <td>VB006_z1</td>\n",
       "      <td>RTUV</td>\n",
       "      <td>Oui</td>\n",
       "      <td>2021-02-09</td>\n",
       "      <td>36.9</td>\n",
       "      <td>NaN</td>\n",
       "      <td>NaN</td>\n",
       "      <td>Ba.Sq</td>\n",
       "      <td>0.587415</td>\n",
       "      <td>0</td>\n",
       "      <td>0.000000</td>\n",
       "      <td>sarcomatoid</td>\n",
       "      <td>Oui</td>\n",
       "      <td>NaN</td>\n",
       "      <td>NaN</td>\n",
       "    </tr>\n",
       "    <tr>\n",
       "      <th>...</th>\n",
       "      <td>...</td>\n",
       "      <td>...</td>\n",
       "      <td>...</td>\n",
       "      <td>...</td>\n",
       "      <td>...</td>\n",
       "      <td>...</td>\n",
       "      <td>...</td>\n",
       "      <td>...</td>\n",
       "      <td>...</td>\n",
       "      <td>...</td>\n",
       "      <td>...</td>\n",
       "      <td>...</td>\n",
       "      <td>...</td>\n",
       "      <td>...</td>\n",
       "      <td>...</td>\n",
       "      <td>...</td>\n",
       "      <td>...</td>\n",
       "    </tr>\n",
       "    <tr>\n",
       "      <th>403</th>\n",
       "      <td>D611</td>\n",
       "      <td>518</td>\n",
       "      <td>VB518_z1</td>\n",
       "      <td>RTUV</td>\n",
       "      <td>Oui</td>\n",
       "      <td>2021-02-09</td>\n",
       "      <td>11.8</td>\n",
       "      <td>NaN</td>\n",
       "      <td>NaN</td>\n",
       "      <td>Ba.Sq</td>\n",
       "      <td>0.711906</td>\n",
       "      <td>Ba.Sq</td>\n",
       "      <td>0.000000</td>\n",
       "      <td>epidermoid</td>\n",
       "      <td>Oui</td>\n",
       "      <td>NaN</td>\n",
       "      <td>NaN</td>\n",
       "    </tr>\n",
       "    <tr>\n",
       "      <th>404</th>\n",
       "      <td>D611</td>\n",
       "      <td>518</td>\n",
       "      <td>VB518_z2</td>\n",
       "      <td>RTUV</td>\n",
       "      <td>Oui</td>\n",
       "      <td>2021-02-09</td>\n",
       "      <td>52</td>\n",
       "      <td>NaN</td>\n",
       "      <td>NaN</td>\n",
       "      <td>LumU</td>\n",
       "      <td>0.459445</td>\n",
       "      <td>LumU</td>\n",
       "      <td>0.982604</td>\n",
       "      <td>giant cell</td>\n",
       "      <td>Oui</td>\n",
       "      <td>NaN</td>\n",
       "      <td>NaN</td>\n",
       "    </tr>\n",
       "    <tr>\n",
       "      <th>405</th>\n",
       "      <td>D630</td>\n",
       "      <td>519</td>\n",
       "      <td>VB519_z1</td>\n",
       "      <td>RTUV</td>\n",
       "      <td>Oui</td>\n",
       "      <td>2021-03-09</td>\n",
       "      <td>51.5</td>\n",
       "      <td>NaN</td>\n",
       "      <td>NaN</td>\n",
       "      <td>LumU</td>\n",
       "      <td>0.715866</td>\n",
       "      <td>LumU</td>\n",
       "      <td>1.488323</td>\n",
       "      <td>glandular</td>\n",
       "      <td>Oui</td>\n",
       "      <td>NaN</td>\n",
       "      <td>NaN</td>\n",
       "    </tr>\n",
       "    <tr>\n",
       "      <th>406</th>\n",
       "      <td>D630</td>\n",
       "      <td>519</td>\n",
       "      <td>VB519_z2</td>\n",
       "      <td>RTUV</td>\n",
       "      <td>Oui</td>\n",
       "      <td>2021-03-09</td>\n",
       "      <td>49</td>\n",
       "      <td>NaN</td>\n",
       "      <td>NaN</td>\n",
       "      <td>Ba.Sq</td>\n",
       "      <td>0.061991</td>\n",
       "      <td>LumP</td>\n",
       "      <td>1.567998</td>\n",
       "      <td>conventional</td>\n",
       "      <td>Oui</td>\n",
       "      <td>NaN</td>\n",
       "      <td>NaN</td>\n",
       "    </tr>\n",
       "    <tr>\n",
       "      <th>407</th>\n",
       "      <td>D670</td>\n",
       "      <td>520</td>\n",
       "      <td>VB520</td>\n",
       "      <td>RTUV</td>\n",
       "      <td>Oui</td>\n",
       "      <td>2021-04-19</td>\n",
       "      <td>21.1</td>\n",
       "      <td>NaN</td>\n",
       "      <td>NaN</td>\n",
       "      <td>Ba.Sq</td>\n",
       "      <td>0.195884</td>\n",
       "      <td>Ba.Sq</td>\n",
       "      <td>1.850244</td>\n",
       "      <td>conventional</td>\n",
       "      <td>Oui</td>\n",
       "      <td>2 zones poolées</td>\n",
       "      <td>NaN</td>\n",
       "    </tr>\n",
       "  </tbody>\n",
       "</table>\n",
       "<p>408 rows × 17 columns</p>\n",
       "</div>"
      ],
      "text/plain": [
       "      Run  patient_id   zone_id Prélèvement Envoi plateforme ARN  \\\n",
       "0    D243           2  VB002_z1        RTUV                  Oui   \n",
       "1    D243           2  VB002_z2        RTUV                  Oui   \n",
       "2    D670           4     VB004        RTUV                  Oui   \n",
       "3    D243           5  VB005_z1        RTUV                  Oui   \n",
       "4    D611           6  VB006_z1        RTUV                  Oui   \n",
       "..    ...         ...       ...         ...                  ...   \n",
       "403  D611         518  VB518_z1        RTUV                  Oui   \n",
       "404  D611         518  VB518_z2        RTUV                  Oui   \n",
       "405  D630         519  VB519_z1        RTUV                  Oui   \n",
       "406  D630         519  VB519_z2        RTUV                  Oui   \n",
       "407  D670         520     VB520        RTUV                  Oui   \n",
       "\n",
       "    Date d'envoi ARN dV200 Extractions faites ? 3'RNAseq trouble target  \\\n",
       "0         2019-11-18    53                  NaN              NaN  Ba.Sq   \n",
       "1         2019-11-18    32                  NaN              NaN  Ba.Sq   \n",
       "2         2021-04-19  22.2                  NaN              NaN  Ba.Sq   \n",
       "3         2019-11-18    21                  NaN              NaN   LumU   \n",
       "4         2021-02-09  36.9                  NaN              NaN  Ba.Sq   \n",
       "..               ...   ...                  ...              ...    ...   \n",
       "403       2021-02-09  11.8                  NaN              NaN  Ba.Sq   \n",
       "404       2021-02-09    52                  NaN              NaN   LumU   \n",
       "405       2021-03-09  51.5                  NaN              NaN   LumU   \n",
       "406       2021-03-09    49                  NaN              NaN  Ba.Sq   \n",
       "407       2021-04-19  21.1                  NaN              NaN  Ba.Sq   \n",
       "\n",
       "     Separation level topWeightedClass   Subtype diversity Histological type  \\\n",
       "0            0.743915             Ba.Sq           0.489881        epidermoid   \n",
       "1            0.759953             Ba.Sq           0.845784       sarcomatoid   \n",
       "2            0.371169             Ba.Sq           0.972778      conventional   \n",
       "3            0.488373              LumU           1.328375      conventional   \n",
       "4            0.587415                 0           0.000000       sarcomatoid   \n",
       "..                ...               ...                ...               ...   \n",
       "403          0.711906             Ba.Sq           0.000000        epidermoid   \n",
       "404          0.459445              LumU           0.982604        giant cell   \n",
       "405          0.715866              LumU           1.488323         glandular   \n",
       "406          0.061991              LumP           1.567998      conventional   \n",
       "407          0.195884             Ba.Sq           1.850244      conventional   \n",
       "\n",
       "    Zone annotée ?                                        Unnamed: 15  \\\n",
       "0              Non  Je n'arrive pas à bien distinguer les zones su...   \n",
       "1              Non  Je n'arrive pas à bien distinguer les zones su...   \n",
       "2              Oui                                                NaN   \n",
       "3              Oui                                                NaN   \n",
       "4              Oui                                                NaN   \n",
       "..             ...                                                ...   \n",
       "403            Oui                                                NaN   \n",
       "404            Oui                                                NaN   \n",
       "405            Oui                                                NaN   \n",
       "406            Oui                                                NaN   \n",
       "407            Oui                                    2 zones poolées   \n",
       "\n",
       "    Unnamed: 16  \n",
       "0           NaN  \n",
       "1           NaN  \n",
       "2           NaN  \n",
       "3           NaN  \n",
       "4           NaN  \n",
       "..          ...  \n",
       "403         NaN  \n",
       "404         NaN  \n",
       "405         NaN  \n",
       "406         NaN  \n",
       "407         NaN  \n",
       "\n",
       "[408 rows x 17 columns]"
      ]
     },
     "execution_count": 10,
     "metadata": {},
     "output_type": "execute_result"
    }
   ],
   "source": [
    "new_df"
   ]
  },
  {
   "cell_type": "code",
   "execution_count": 11,
   "metadata": {},
   "outputs": [
    {
     "name": "stderr",
     "output_type": "stream",
     "text": [
      "/cluster/CBIO/home/ablondel1/miniconda3/lib/python3.11/site-packages/sklearn/utils/validation.py:605: FutureWarning: is_sparse is deprecated and will be removed in a future version. Check `isinstance(dtype, pd.SparseDtype)` instead.\n",
      "  if is_sparse(pd_dtype):\n",
      "/cluster/CBIO/home/ablondel1/miniconda3/lib/python3.11/site-packages/sklearn/utils/validation.py:614: FutureWarning: is_sparse is deprecated and will be removed in a future version. Check `isinstance(dtype, pd.SparseDtype)` instead.\n",
      "  if is_sparse(pd_dtype) or not is_extension_array_dtype(pd_dtype):\n"
     ]
    }
   ],
   "source": [
    "target_name = \"target\"\n",
    "group_by = \"patient_id\"\n",
    "equ_vars = None\n",
    "k=3\n",
    "\n",
    "table = test_stratif(\n",
    "    new_df, \n",
    "    equ_vars, \n",
    "    target_name,\n",
    "    group_by, \n",
    "    3\n",
    ")\n",
    "table.to_csv(\"split_test.csv\", index=False)\n"
   ]
  },
  {
   "cell_type": "markdown",
   "metadata": {},
   "source": [
    "## Train"
   ]
  },
  {
   "cell_type": "code",
   "execution_count": 1,
   "metadata": {},
   "outputs": [
    {
     "ename": "ModuleNotFoundError",
     "evalue": "No module named 'tensorboardX'",
     "output_type": "error",
     "traceback": [
      "\u001b[0;31m---------------------------------------------------------------------------\u001b[0m",
      "\u001b[0;31mModuleNotFoundError\u001b[0m                       Traceback (most recent call last)",
      "Cell \u001b[0;32mIn[1], line 1\u001b[0m\n\u001b[0;32m----> 1\u001b[0m \u001b[38;5;28;01mfrom\u001b[39;00m \u001b[38;5;21;01mpkg\u001b[39;00m\u001b[38;5;21;01m.\u001b[39;00m\u001b[38;5;21;01mwsi_mil\u001b[39;00m\u001b[38;5;21;01m.\u001b[39;00m\u001b[38;5;21;01mdeepmil\u001b[39;00m\u001b[38;5;21;01m.\u001b[39;00m\u001b[38;5;21;01mtrain\u001b[39;00m \u001b[38;5;28;01mimport\u001b[39;00m main \u001b[38;5;28;01mas\u001b[39;00m train\n\u001b[1;32m      2\u001b[0m \u001b[38;5;28;01mfrom\u001b[39;00m \u001b[38;5;21;01mpkg\u001b[39;00m\u001b[38;5;21;01m.\u001b[39;00m\u001b[38;5;21;01mwsi_mil\u001b[39;00m\u001b[38;5;21;01m.\u001b[39;00m\u001b[38;5;21;01mdeepmil\u001b[39;00m\u001b[38;5;21;01m.\u001b[39;00m\u001b[38;5;21;01mwrites_results_cross_val\u001b[39;00m \u001b[38;5;28;01mimport\u001b[39;00m main \u001b[38;5;28;01mas\u001b[39;00m writes_validation_results\n\u001b[1;32m      3\u001b[0m \u001b[38;5;28;01mfrom\u001b[39;00m \u001b[38;5;21;01mpkg\u001b[39;00m\u001b[38;5;21;01m.\u001b[39;00m\u001b[38;5;21;01mwsi_mil\u001b[39;00m\u001b[38;5;21;01m.\u001b[39;00m\u001b[38;5;21;01mdeepmil\u001b[39;00m\u001b[38;5;21;01m.\u001b[39;00m\u001b[38;5;21;01mwrites_final_results\u001b[39;00m \u001b[38;5;28;01mimport\u001b[39;00m main \u001b[38;5;28;01mas\u001b[39;00m writes_test_results\n",
      "File \u001b[0;32m~/Desktop/wsi_mil/pkg/wsi_mil/deepmil/train.py:3\u001b[0m\n\u001b[1;32m      1\u001b[0m \u001b[38;5;28;01mfrom\u001b[39;00m \u001b[38;5;21;01m.\u001b[39;00m\u001b[38;5;21;01marguments\u001b[39;00m \u001b[38;5;28;01mimport\u001b[39;00m get_arguments\n\u001b[1;32m      2\u001b[0m \u001b[38;5;28;01mfrom\u001b[39;00m \u001b[38;5;21;01m.\u001b[39;00m\u001b[38;5;21;01mdataloader\u001b[39;00m \u001b[38;5;28;01mimport\u001b[39;00m Dataset_handler\n\u001b[0;32m----> 3\u001b[0m \u001b[38;5;28;01mfrom\u001b[39;00m \u001b[38;5;21;01m.\u001b[39;00m\u001b[38;5;21;01mmodels\u001b[39;00m \u001b[38;5;28;01mimport\u001b[39;00m DeepMIL\n\u001b[1;32m      4\u001b[0m \u001b[38;5;28;01mimport\u001b[39;00m \u001b[38;5;21;01mnumpy\u001b[39;00m \u001b[38;5;28;01mas\u001b[39;00m \u001b[38;5;21;01mnp\u001b[39;00m\n\u001b[1;32m      5\u001b[0m \u001b[38;5;28;01mimport\u001b[39;00m \u001b[38;5;21;01mtorch\u001b[39;00m\n",
      "File \u001b[0;32m~/Desktop/wsi_mil/pkg/wsi_mil/deepmil/models.py:13\u001b[0m\n\u001b[1;32m     11\u001b[0m \u001b[38;5;28;01mimport\u001b[39;00m \u001b[38;5;21;01mtorchvision\u001b[39;00m\n\u001b[1;32m     12\u001b[0m \u001b[38;5;28;01mfrom\u001b[39;00m \u001b[38;5;21;01mabc\u001b[39;00m \u001b[38;5;28;01mimport\u001b[39;00m ABC, abstractmethod\n\u001b[0;32m---> 13\u001b[0m \u001b[38;5;28;01mfrom\u001b[39;00m \u001b[38;5;21;01mtensorboardX\u001b[39;00m \u001b[38;5;28;01mimport\u001b[39;00m SummaryWriter\n\u001b[1;32m     14\u001b[0m \u001b[38;5;28;01mimport\u001b[39;00m \u001b[38;5;21;01mshutil\u001b[39;00m\n\u001b[1;32m     15\u001b[0m \u001b[38;5;28;01mimport\u001b[39;00m \u001b[38;5;21;01mos\u001b[39;00m\n",
      "\u001b[0;31mModuleNotFoundError\u001b[0m: No module named 'tensorboardX'"
     ]
    }
   ],
   "source": [
    "from pkg.wsi_mil.deepmil.train import main as train\n",
    "from pkg.wsi_mil.deepmil.writes_results_cross_val import main as writes_validation_results\n",
    "from pkg.wsi_mil.deepmil.writes_final_results import main as writes_test_results\n",
    "import pandas as pd\n",
    "import os\n",
    "import datetime\n",
    "import subprocess\n",
    "import shutil\n",
    "from argparse import ArgumentParser\n",
    "import yaml"
   ]
  },
  {
   "cell_type": "code",
   "execution_count": 2,
   "metadata": {},
   "outputs": [],
   "source": [
    "out = \"./outputs\"\n",
    "name = \"local_exp_0\"\n",
    "reps = 1\n",
    "config = \"./scripts/config_default.yaml\"\n",
    "n_ensemble = 1\n",
    "\n",
    "out = os.path.abspath(out)\n",
    "out = os.path.join(out, name)\n",
    "config = os.path.abspath(config)\n",
    "os.makedirs(out, exist_ok=True)\n",
    "shutil.copy(config, os.path.join(out, 'config.yaml'))\n",
    "with open(config, 'r') as f:\n",
    "    dic = yaml.safe_load(f)\n",
    "table = pd.read_csv(dic['table_data'])\n",
    "tests = len(set(table['test'].values)) "
   ]
  },
  {
   "cell_type": "code",
   "execution_count": 3,
   "metadata": {},
   "outputs": [
    {
     "data": {
      "text/plain": [
       "{'wsi': '/Users/aliceblondel/Desktop/wsi_mil/data/Embeddings/Ctranspath_PCA/tiles/',\n",
       " 'table_data': '/Users/aliceblondel/Desktop/wsi_mil/split_test.csv',\n",
       " 'batch_size': 16,\n",
       " 'dropout': 0.4,\n",
       " 'feature_depth': 256,\n",
       " 'lr': 0.003,\n",
       " 'num_workers': 1,\n",
       " 'model_name': 'mhmc_layers',\n",
       " 'nb_tiles': 200,\n",
       " 'epochs': 200,\n",
       " 'id_name': 'zone_id',\n",
       " 'target_name': 'target',\n",
       " 'ref_metric': 'loss',\n",
       " 'sample_wr_whole_label': True,\n",
       " 'use_val': False}"
      ]
     },
     "execution_count": 3,
     "metadata": {},
     "output_type": "execute_result"
    }
   ],
   "source": [
    "dic"
   ]
  },
  {
   "cell_type": "code",
   "execution_count": 4,
   "metadata": {},
   "outputs": [
    {
     "name": "stdout",
     "output_type": "stream",
     "text": [
      "Epochs 0\n"
     ]
    }
   ],
   "source": [
    "for test in range(tests):\n",
    "    for rep in range(reps):\n",
    "        raw_args = [\n",
    "                '--config', config, \n",
    "                '--repeat', f'{rep}', \n",
    "                '--test_fold', f'{test}', \n",
    "                ]\n",
    "        wd = os.path.join(out, f'test_{test}', f'rep_{rep}')\n",
    "        os.makedirs(wd, exist_ok=True)\n",
    "        os.chdir(wd)\n",
    "        train(raw_args=raw_args)\n",
    "\n",
    "# Root of experiment.\n",
    "os.chdir(out)\n",
    "raw_args = ['--n_ensemble', f'{n_ensemble}']\n",
    "# writes_validation_results(raw_args)\n",
    "# writes_test_results([])\n"
   ]
  },
  {
   "cell_type": "code",
   "execution_count": null,
   "metadata": {},
   "outputs": [],
   "source": [
    "writes_validation_results(raw_args)\n",
    "writes_test_results([])"
   ]
  },
  {
   "cell_type": "markdown",
   "metadata": {},
   "source": [
    "## Plot results"
   ]
  },
  {
   "cell_type": "code",
   "execution_count": 15,
   "metadata": {},
   "outputs": [],
   "source": [
    "import pandas as pd\n",
    "import warnings\n",
    "warnings.filterwarnings('always')"
   ]
  },
  {
   "cell_type": "code",
   "execution_count": 22,
   "metadata": {},
   "outputs": [
    {
     "data": {
      "text/html": [
       "<div>\n",
       "<style scoped>\n",
       "    .dataframe tbody tr th:only-of-type {\n",
       "        vertical-align: middle;\n",
       "    }\n",
       "\n",
       "    .dataframe tbody tr th {\n",
       "        vertical-align: top;\n",
       "    }\n",
       "\n",
       "    .dataframe thead th {\n",
       "        text-align: right;\n",
       "    }\n",
       "</style>\n",
       "<table border=\"1\" class=\"dataframe\">\n",
       "  <thead>\n",
       "    <tr style=\"text-align: right;\">\n",
       "      <th></th>\n",
       "      <th>prediction</th>\n",
       "      <th>target</th>\n",
       "    </tr>\n",
       "  </thead>\n",
       "  <tbody>\n",
       "    <tr>\n",
       "      <th>0</th>\n",
       "      <td>Ba.Sq</td>\n",
       "      <td>Ba.Sq</td>\n",
       "    </tr>\n",
       "    <tr>\n",
       "      <th>1</th>\n",
       "      <td>Ba.Sq</td>\n",
       "      <td>Ba.Sq</td>\n",
       "    </tr>\n",
       "    <tr>\n",
       "      <th>2</th>\n",
       "      <td>Stroma.rich</td>\n",
       "      <td>Ba.Sq</td>\n",
       "    </tr>\n",
       "    <tr>\n",
       "      <th>3</th>\n",
       "      <td>LumU</td>\n",
       "      <td>LumU</td>\n",
       "    </tr>\n",
       "    <tr>\n",
       "      <th>4</th>\n",
       "      <td>Ba.Sq</td>\n",
       "      <td>Ba.Sq</td>\n",
       "    </tr>\n",
       "    <tr>\n",
       "      <th>...</th>\n",
       "      <td>...</td>\n",
       "      <td>...</td>\n",
       "    </tr>\n",
       "    <tr>\n",
       "      <th>403</th>\n",
       "      <td>LumU</td>\n",
       "      <td>Ba.Sq</td>\n",
       "    </tr>\n",
       "    <tr>\n",
       "      <th>404</th>\n",
       "      <td>LumU</td>\n",
       "      <td>LumU</td>\n",
       "    </tr>\n",
       "    <tr>\n",
       "      <th>405</th>\n",
       "      <td>LumP</td>\n",
       "      <td>LumU</td>\n",
       "    </tr>\n",
       "    <tr>\n",
       "      <th>406</th>\n",
       "      <td>Ba.Sq</td>\n",
       "      <td>Ba.Sq</td>\n",
       "    </tr>\n",
       "    <tr>\n",
       "      <th>407</th>\n",
       "      <td>Stroma.rich</td>\n",
       "      <td>Ba.Sq</td>\n",
       "    </tr>\n",
       "  </tbody>\n",
       "</table>\n",
       "<p>408 rows × 2 columns</p>\n",
       "</div>"
      ],
      "text/plain": [
       "      prediction target\n",
       "0          Ba.Sq  Ba.Sq\n",
       "1          Ba.Sq  Ba.Sq\n",
       "2    Stroma.rich  Ba.Sq\n",
       "3           LumU   LumU\n",
       "4          Ba.Sq  Ba.Sq\n",
       "..           ...    ...\n",
       "403         LumU  Ba.Sq\n",
       "404         LumU   LumU\n",
       "405         LumP   LumU\n",
       "406        Ba.Sq  Ba.Sq\n",
       "407  Stroma.rich  Ba.Sq\n",
       "\n",
       "[408 rows x 2 columns]"
      ]
     },
     "execution_count": 22,
     "metadata": {},
     "output_type": "execute_result"
    }
   ],
   "source": [
    "results_path = \"/Users/aliceblondel/Desktop/wsi_mil/outputs/local_exp_1_1000_epoch/RESULTS_BEST_VAL_LOSS/results_table.csv\"\n",
    "df = pd.read_csv(results_path)\n",
    "df[[\"prediction\", \"target\"]]"
   ]
  },
  {
   "cell_type": "code",
   "execution_count": 27,
   "metadata": {},
   "outputs": [
    {
     "data": {
      "text/plain": [
       "Text(0.5, 1.0, 'Confusion Matrix')"
      ]
     },
     "execution_count": 27,
     "metadata": {},
     "output_type": "execute_result"
    },
    {
     "data": {
      "image/png": "[encoded data removed]",
      "text/plain": [
       "<Figure size 500x500 with 1 Axes>"
      ]
     },
     "metadata": {},
     "output_type": "display_data"
    }
   ],
   "source": [
    "import matplotlib.pyplot as plt\n",
    "import seaborn as sns\n",
    "import numpy as np\n",
    "from sklearn.metrics import confusion_matrix\n",
    "\n",
    "class_names = ['Ba.Sq', 'LumU', 'Stroma.rich', 'LumP','LumNS', 'NE.like',]\n",
    "conf_matrix = confusion_matrix(\n",
    "    df[\"target\"], \n",
    "    df[\"prediction\"],\n",
    "    labels=class_names,\n",
    ")\n",
    "# conf_matrix = conf_matrix.astype('float') / conf_matrix.sum(axis=1)[:, np.newaxis]\n",
    "\n",
    "fig = plt.figure(figsize=(5, 5))\n",
    "heatmap = sns.heatmap(conf_matrix, annot=True, fmt=\".0f\", cmap=\"Blues\", cbar=False,\n",
    "            xticklabels=class_names, yticklabels=class_names)\n",
    "plt.xlabel('Predicted Label')\n",
    "plt.ylabel('True Label')\n",
    "plt.title('Confusion Matrix')\n"
   ]
  },
  {
   "cell_type": "code",
   "execution_count": 21,
   "metadata": {},
   "outputs": [
    {
     "data": {
      "text/plain": [
       "{'Ba.Sq': {'precision': 0.610062893081761,\n",
       "  'recall': 0.6736111111111112,\n",
       "  'f1-score': 0.6402640264026402,\n",
       "  'support': 144.0},\n",
       " 'LumNS': {'precision': 0.11764705882352941,\n",
       "  'recall': 0.08695652173913043,\n",
       "  'f1-score': 0.09999999999999999,\n",
       "  'support': 23.0},\n",
       " 'LumP': {'precision': 0.24390243902439024,\n",
       "  'recall': 0.17543859649122806,\n",
       "  'f1-score': 0.2040816326530612,\n",
       "  'support': 57.0},\n",
       " 'LumU': {'precision': 0.42592592592592593,\n",
       "  'recall': 0.5054945054945055,\n",
       "  'f1-score': 0.4623115577889447,\n",
       "  'support': 91.0},\n",
       " 'NE.like': {'precision': 0.0, 'recall': 0.0, 'f1-score': 0.0, 'support': 4.0},\n",
       " 'Stroma.rich': {'precision': 0.4444444444444444,\n",
       "  'recall': 0.4044943820224719,\n",
       "  'f1-score': 0.4235294117647059,\n",
       "  'support': 89.0},\n",
       " 'accuracy': 0.4681372549019608,\n",
       " 'macro avg': {'precision': 0.30699712688334185,\n",
       "  'recall': 0.3076658528097412,\n",
       "  'f1-score': 0.30503110476822537,\n",
       "  'support': 408.0},\n",
       " 'weighted avg': {'precision': 0.44797106077431326,\n",
       "  'recall': 0.4681372549019608,\n",
       "  'f1-score': 0.4556253486986702,\n",
       "  'support': 408.0}}"
      ]
     },
     "execution_count": 21,
     "metadata": {},
     "output_type": "execute_result"
    }
   ],
   "source": [
    "from sklearn.metrics import classification_report\n",
    "\n",
    "d = classification_report(df[\"target\"], df[\"prediction\"],  output_dict=True, zero_division=0)\n",
    "d"
   ]
  },
  {
   "cell_type": "markdown",
   "metadata": {},
   "source": [
    "## Stats"
   ]
  },
  {
   "cell_type": "code",
   "execution_count": 9,
   "metadata": {},
   "outputs": [],
   "source": [
    "import os\n",
    "import pandas as pd\n",
    "\n",
    "tiles_path = \"/Users/aliceblondel/Desktop/wsi_mil/data/Embeddings/Ctranspath_PCA/tiles\"\n",
    "df = pd.read_csv(\"/Users/aliceblondel/Desktop/wsi_mil/split_test.csv\")"
   ]
  },
  {
   "cell_type": "code",
   "execution_count": 48,
   "metadata": {},
   "outputs": [],
   "source": [
    "import os\n",
    "import numpy as np\n",
    "import pandas as pd\n",
    "\n",
    "tiles_path = \"/Users/aliceblondel/Desktop/wsi_mil/data/Embeddings/Ctranspath_PCA/tiles\"\n",
    "df = pd.read_csv(\"/Users/aliceblondel/Desktop/wsi_mil/split_test.csv\")\n",
    "\n",
    "d = {'Ba.Sq':[], 'LumU':[], 'Stroma.rich':[], 'NE.like':[], 'LumP':[], 'LumNS':[],}\n",
    "\n",
    "for file in os.listdir(tiles_path):\n",
    "    zone_id = file.split(\".npy\")[0]\n",
    "    target = df[df[\"zone_id\"]==zone_id][\"target\"].iloc[0]\n",
    "    if target==\"NE.like\":\n",
    "\n",
    "        patient = df[df[\"zone_id\"]==zone_id][\"patient_id\"].iloc[0]\n",
    "\n",
    "        path = os.path.join(tiles_path, file)\n",
    "        emb = np.load(path)\n",
    "        n_tiles = emb.shape[0]\n",
    "\n",
    "        d[target].append(n_tiles)\n",
    "        d[target].append(patient)\n"
   ]
  },
  {
   "cell_type": "code",
   "execution_count": 41,
   "metadata": {},
   "outputs": [
    {
     "name": "stdout",
     "output_type": "stream",
     "text": [
      "Ba.Sq : 72\n",
      "LumU : 102\n",
      "Stroma.rich : 31\n",
      "NE.like : 76\n",
      "LumP : 69\n",
      "LumNS : 164\n"
     ]
    }
   ],
   "source": [
    "for c, cards in d.items():\n",
    "    print(c, \":\", np.min(cards))"
   ]
  },
  {
   "cell_type": "code",
   "execution_count": null,
   "metadata": {},
   "outputs": [],
   "source": []
  },
  {
   "cell_type": "code",
   "execution_count": 96,
   "metadata": {},
   "outputs": [
    {
     "data": {
      "image/png": "[encoded data removed]",
      "text/plain": [
       "<Figure size 640x480 with 1 Axes>"
      ]
     },
     "metadata": {},
     "output_type": "display_data"
    }
   ],
   "source": [
    "import matplotlib.pyplot as plt\n",
    "\n",
    "# Data\n",
    "labels = ['Ba.Sq', 'LumU', 'Stroma.rich', 'LumP', 'LumNS', 'NE.like']\n",
    "# sizes = [68768, 46585, 35513, 27858, 11091, 2366]\n",
    "sizes = [144, 91, 89, 57, 23, 4]\n",
    "\n",
    "# Define neutral colors\n",
    "neutral_colors = ['#66c2a5', '#fc8d62', '#8da0cb', '#e78ac3', '#a6d854', '#ffd92f']\n",
    "\n",
    "# Create a pie chart\n",
    "plt.pie(sizes, labels=labels, autopct='%1.1f%%', startangle=140, colors=neutral_colors)\n",
    "plt.axis('equal')  # Equal aspect ratio ensures that pie is drawn as a circle.\n",
    "\n",
    "# Add a title\n",
    "plt.title('Proportion of Zones per Molecular Subtype\\n')\n",
    "\n",
    "# Display the chart\n",
    "plt.show()\n"
   ]
  },
  {
   "cell_type": "code",
   "execution_count": 34,
   "metadata": {},
   "outputs": [
    {
     "data": {
      "text/plain": [
       "(array([0.35294118, 0.22303922, 0.21813725, 0.13970588, 0.05637255,\n",
       "        0.00980392]),\n",
       " 0.24468954248366018,\n",
       " 0.16666666666666666)"
      ]
     },
     "execution_count": 34,
     "metadata": {},
     "output_type": "execute_result"
    }
   ],
   "source": [
    "t = np.array([144/408, 91/408, 89/408, 57/408, 23/408, 4/408])\n",
    "t, (t**2).sum(), 1/6\n",
    "\n"
   ]
  },
  {
   "cell_type": "code",
   "execution_count": null,
   "metadata": {},
   "outputs": [],
   "source": []
  }
 ],
 "metadata": {
  "kernelspec": {
   "display_name": "gigassl",
   "language": "python",
   "name": "python3"
  },
  "language_info": {
   "codemirror_mode": {
    "name": "ipython",
    "version": 3
   },
   "file_extension": ".py",
   "mimetype": "text/x-python",
   "name": "python",
   "nbconvert_exporter": "python",
   "pygments_lexer": "ipython3",
   "version": "3.9.6"
  }
 },
 "nbformat": 4,
 "nbformat_minor": 2
}
