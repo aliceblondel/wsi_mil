{
 "cells": [
  {
   "cell_type": "markdown",
   "metadata": {},
   "source": [
    "# Train MIL"
   ]
  },
  {
   "cell_type": "code",
   "execution_count": null,
   "metadata": {},
   "outputs": [],
   "source": [
    "%load_ext autoreload"
   ]
  },
  {
   "cell_type": "code",
   "execution_count": null,
   "metadata": {},
   "outputs": [],
   "source": [
    "%autoreload \n",
    "from pkg.wsi_mil.deepmil.train import main as train\n",
    "from pkg.wsi_mil.deepmil.writes_results_cross_val import main as writes_validation_results\n",
    "from pkg.wsi_mil.deepmil.writes_final_results import main as writes_test_results\n",
    "import pandas as pd\n",
    "import os\n",
    "import datetime\n",
    "import subprocess\n",
    "import shutil\n",
    "from argparse import ArgumentParser\n",
    "import yaml"
   ]
  },
  {
   "cell_type": "code",
   "execution_count": null,
   "metadata": {},
   "outputs": [],
   "source": [
    "out = \"./outputs\"\n",
    "name = \"test\"\n",
    "reps = 5\n",
    "config = \"/cluster/CBIO/home/ablondel1/wsi_mil/scripts/config_default.yaml\"\n",
    "n_ensemble = 3"
   ]
  },
  {
   "cell_type": "code",
   "execution_count": null,
   "metadata": {},
   "outputs": [],
   "source": [
    "name = name + datetime.date.today().strftime('%Y_%m_%d')\n",
    "out = os.path.abspath(out)\n",
    "out = os.path.join(out, name)\n",
    "config = os.path.abspath(config)\n",
    "os.makedirs(out, exist_ok=True)\n",
    "shutil.copy(config, os.path.join(out, 'config.yaml'))\n",
    "with open(config, 'r') as f:\n",
    "    dic = yaml.safe_load(f)\n",
    "table = pd.read_csv(dic['table_data'])\n",
    "tests = len(set(table['test'].values)) \n"
   ]
  },
  {
   "cell_type": "code",
   "execution_count": null,
   "metadata": {},
   "outputs": [],
   "source": [
    "for test in range(tests):\n",
    "    for rep in range(reps):\n",
    "        raw_args = [\n",
    "                '--config', config, \n",
    "                '--repeat', f'{rep}', \n",
    "                '--test_fold', f'{test}', \n",
    "                ]\n",
    "        wd = os.path.join(out, f'test_{test}', f'rep_{rep}')\n",
    "        os.makedirs(wd, exist_ok=True)\n",
    "        os.chdir(wd)\n",
    "        train(raw_args=raw_args)\n"
   ]
  },
  {
   "cell_type": "code",
   "execution_count": null,
   "metadata": {},
   "outputs": [],
   "source": [
    "# Root of experiment.\n",
    "os.chdir(out)\n",
    "raw_args = ['--n_ensemble', f'{n_ensemble}']\n",
    "writes_validation_results(raw_args)\n",
    "writes_test_results([])"
   ]
  }
 ],
 "metadata": {
  "kernelspec": {
   "display_name": "test_pytorch",
   "language": "python",
   "name": "python3"
  },
  "language_info": {
   "codemirror_mode": {
    "name": "ipython",
    "version": 3
   },
   "file_extension": ".py",
   "mimetype": "text/x-python",
   "name": "python",
   "nbconvert_exporter": "python",
   "pygments_lexer": "ipython3",
   "version": "3.10.13"
  }
 },
 "nbformat": 4,
 "nbformat_minor": 2
}
