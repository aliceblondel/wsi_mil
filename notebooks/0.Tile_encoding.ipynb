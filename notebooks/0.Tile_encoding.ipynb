{
 "cells": [
  {
   "cell_type": "markdown",
   "metadata": {},
   "source": [
    "## Tile Encoding"
   ]
  },
  {
   "cell_type": "code",
   "execution_count": null,
   "metadata": {},
   "outputs": [],
   "source": [
    "%load_ext autoreload"
   ]
  },
  {
   "cell_type": "code",
   "execution_count": null,
   "metadata": {},
   "outputs": [],
   "source": [
    "%autoreload \n",
    "\n",
    "import os \n",
    "os.environ[\"USE_TRANSPATH\"] = \"True\"\n",
    "print(os.environ[\"USE_TRANSPATH\"])\n",
    "\n",
    "import torch\n",
    "import pandas as pd\n",
    "from pkg.wsi_mil.tile_wsi.encoders import CTranspathModel\n",
    "from scripts.encode_tiles import encode_tiles\n",
    "from pkg.wsi_mil.tile_wsi.pca_partial import pca_savings\n",
    "\n",
    "\n",
    "device = \"mps\"\n",
    "gt_filepath = \"/Users/aliceblondel/Desktop/WSI_vesper/data/Selected_Contour_annotation.xlsx\"\n",
    "data_folder = \"/Users/aliceblondel/Desktop/WSI_vesper/data/\"\n",
    "embedding_folder = \"/Users/aliceblondel/Desktop/WSI_vesper/data/Embeddings_complete/ctranspath/\"\n",
    "save_tiles_img = True\n",
    "\n",
    "print(f\"Device: {device}\")\n",
    "print(f\"GT file path: {gt_filepath}\")\n",
    "print(f\"Data folder: {data_folder}\")\n",
    "print(f\"Embedding folder: {embedding_folder}\")\n",
    "\n",
    "df = pd.read_excel(gt_filepath, index_col=0)\n",
    "model = CTranspathModel().to(device)\n",
    "\n",
    "model.eval()\n",
    "with torch.no_grad():\n",
    "    for zone_id in df[\"zone_id\"].unique():\n",
    "        print(zone_id)\n",
    "        tile_embeddings, tile_xys, save_folder = encode_tiles(\n",
    "            model, \n",
    "            zone_id,\n",
    "            df,\n",
    "            data_folder,\n",
    "            embedding_folder,\n",
    "            magnification_tile=10, \n",
    "            max_tiles_per_slide=None,\n",
    "            device=device, \n",
    "            mask_tolerance=0.9,\n",
    "            save_tiles_img=save_tiles_img,\n",
    "        )\n",
    "\n",
    "pca_path = save_folder / \"pca\" \n",
    "pca_path.mkdir(exist_ok=True)\n",
    "pca_savings(model.pca, pca_path)"
   ]
  },
  {
   "cell_type": "markdown",
   "metadata": {},
   "source": [
    "## Old version"
   ]
  },
  {
   "cell_type": "code",
   "execution_count": null,
   "metadata": {},
   "outputs": [],
   "source": [
    "%load_ext autoreload"
   ]
  },
  {
   "cell_type": "code",
   "execution_count": null,
   "metadata": {},
   "outputs": [],
   "source": [
    "%autoreload\n",
    "\n",
    "import os \n",
    "os.environ[\"USE_TRANSPATH\"] = \"True\"\n",
    "print(os.environ[\"USE_TRANSPATH\"])\n",
    "\n",
    "from pkg.wsi_mil.tile_wsi.tiler import ImageTiler\n",
    "from pkg.wsi_mil.tile_wsi.pca_partial import main as incremental_pca\n",
    "from pkg.wsi_mil.tile_wsi.arguments import get_arguments\n",
    "import os\n",
    "import numpy as np\n",
    "from glob import glob"
   ]
  },
  {
   "cell_type": "code",
   "execution_count": null,
   "metadata": {},
   "outputs": [],
   "source": [
    "params = {\n",
    "    \"path_wsi\" :  \"/Users/aliceblondel/Desktop/WSI_vesper/data/Slides/\",\n",
    "    \"size\" :  224,\n",
    "    \"tiler\" :  \"imagenet\",\n",
    "    \"level\" :  2,\n",
    "    \"path_outputs\" :  \"/Users/aliceblondel/Desktop/WSI_vesper/data/Embeddings_complete/\",\n",
    "}\n",
    "\n",
    "args = get_arguments(params)\n",
    "args.path_wsi"
   ]
  },
  {
   "cell_type": "code",
   "execution_count": null,
   "metadata": {},
   "outputs": [],
   "source": [
    "outpath = os.path.join(args.path_outputs, args.tiler, f'level_{args.level}')\n",
    "if os.path.isfile(args.path_wsi):\n",
    "    it = ImageTiler(args=args)\n",
    "    it.tile_image()\n",
    "else:\n",
    "    dirs = []\n",
    "    extensions = set(['.ndpi', '.svs', '.tif'])\n",
    "    all_files = glob(os.path.join(args.path_wsi, '*.*'))\n",
    "    files = [f for f in all_files if os.path.splitext(f)[1] in extensions]\n",
    "    assert len(files) > 0, f\"No files with extension {extensions} in {args.path_wsi}\"\n",
    "    # for f in files:\n",
    "    f = '/Users/aliceblondel/Desktop/WSI_vesper/data/Slides/VB002 A-HES - 2022-01-27 10.35.08.ndpi'\n",
    "    args.path_wsi = f\n",
    "    it = ImageTiler(args=args)\n",
    "    it.tile_image()\n",
    "\n",
    "#PCA\n",
    "outpath = '/Users/aliceblondel/Desktop/WSI_vesper/data/Embeddings_complete/ctranspath/level_2'\n",
    "if args.tiler != 'simple':\n",
    "    os.chdir(outpath)\n",
    "    os.makedirs('pca', exist_ok=True)\n",
    "    raw_args = ['--path', '.']\n",
    "    ipca = incremental_pca(raw_args)\n",
    "    os.makedirs(os.path.join('./mat_pca'), exist_ok=True)\n",
    "    files = glob('./mat/*.npy')\n",
    "    for f in files:\n",
    "        m = np.load(f)\n",
    "        mp = ipca.transform(m)\n",
    "        np.save(os.path.join('mat_pca', os.path.basename(f)), mp)\n"
   ]
  }
 ],
 "metadata": {
  "kernelspec": {
   "display_name": "base",
   "language": "python",
   "name": "python3"
  },
  "language_info": {
   "codemirror_mode": {
    "name": "ipython",
    "version": 3
   },
   "file_extension": ".py",
   "mimetype": "text/x-python",
   "name": "python",
   "nbconvert_exporter": "python",
   "pygments_lexer": "ipython3",
   "version": "3.9.13"
  }
 },
 "nbformat": 4,
 "nbformat_minor": 2
}
