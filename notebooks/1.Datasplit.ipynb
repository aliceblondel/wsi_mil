{
 "cells": [
  {
   "cell_type": "markdown",
   "metadata": {},
   "source": [
    "# Datasplit"
   ]
  },
  {
   "cell_type": "code",
   "execution_count": 1,
   "metadata": {},
   "outputs": [],
   "source": [
    "%load_ext autoreload"
   ]
  },
  {
   "cell_type": "code",
   "execution_count": 28,
   "metadata": {},
   "outputs": [],
   "source": [
    "%autoreload \n",
    "import os\n",
    "import numpy as np\n",
    "import pandas as pd\n",
    "import matplotlib.pyplot as plt\n",
    "\n",
    "from pkg.wsi_mil.deepmil.aide_csv_maker import test_stratif"
   ]
  },
  {
   "cell_type": "code",
   "execution_count": 30,
   "metadata": {},
   "outputs": [],
   "source": [
    "tile_folder = \"/cluster/CBIO/data1/ablondel1/WSI_vesper_data/Embeddings/Ctranspath_m10_images/tiles/\"  \n",
    "gt_path = \"/cluster/CBIO/data1/ablondel1/WSI_vesper_data/Selected_Vesper_zones.xlsx\"\n",
    "\n",
    "df = pd.read_excel(gt_path)\n",
    "df = df.sample(frac=1, random_state=0).reset_index(drop=True)"
   ]
  },
  {
   "cell_type": "code",
   "execution_count": 63,
   "metadata": {},
   "outputs": [],
   "source": [
    "target_name = \"target\"\n",
    "group_by = \"patient_id\"\n",
    "equ_vars = None\n",
    "k=3\n",
    "\n",
    "table = test_stratif(\n",
    "    df, \n",
    "    equ_vars, \n",
    "    target_name,\n",
    "    group_by, \n",
    "    4\n",
    ")\n",
    "table"
   ]
  },
  {
   "cell_type": "code",
   "execution_count": null,
   "metadata": {},
   "outputs": [],
   "source": [
    "# table.to_csv(\"/cluster/CBIO/data1/ablondel1/WSI_vesper_data/split_test_3.csv\", index=False)"
   ]
  },
  {
   "cell_type": "markdown",
   "metadata": {},
   "source": [
    "## Stats"
   ]
  },
  {
   "cell_type": "code",
   "execution_count": 32,
   "metadata": {},
   "outputs": [],
   "source": [
    "def plot_fold_statistics(df):\n",
    "    \"\"\"\n",
    "    Plot statistics, including the total number of rows, \n",
    "    class proportions in training, and class proportions in validation.\n",
    "    \"\"\"\n",
    "    k = len(df[\"test\"].unique())\n",
    "    plt.figure(figsize=(4*k, 4))\n",
    "\n",
    "    for j in range(k):\n",
    "        val_df = df[df['test']==j].reset_index(drop=True)\n",
    "\n",
    "        plt.subplot(1, k, j+1)\n",
    "        class_proportions = val_df[\"target\"].value_counts()\n",
    "        classes = class_proportions.index\n",
    "        plt.bar(classes, class_proportions)\n",
    "        plt.title(f'Class Proportions : T{j}')\n",
    "    \n",
    "    plt.tight_layout()  \n",
    "    plt.show()\n"
   ]
  },
  {
   "cell_type": "code",
   "execution_count": 34,
   "metadata": {},
   "outputs": [],
   "source": [
    "def check_overlap(df, on='patient_id'):\n",
    "    \n",
    "    k = len(df[\"test\"].unique())\n",
    "    dfs = [df[df['test']==j].reset_index(drop=True) for j in range(k)]\n",
    "    for i in range(len(dfs)):\n",
    "        for j in range(i + 1, len(dfs)):\n",
    "            overlap = pd.merge(dfs[i], dfs[j], on='patient_id', how='inner')\n",
    "            \n",
    "            if not overlap.empty:\n",
    "                print(f\"/!\\ There is an overlap between df{i+1} and df{j+1} on the 'patient_id' column.\")\n",
    "            else:\n",
    "                print(f\"No overlap between df{i+1} and df{j+1}.\")\n",
    "\n"
   ]
  },
  {
   "cell_type": "code",
   "execution_count": 31,
   "metadata": {},
   "outputs": [],
   "source": [
    "df = pd.read_csv(\"/cluster/CBIO/data1/ablondel1/WSI_vesper_data/split_test_4.csv\")\n"
   ]
  },
  {
   "cell_type": "code",
   "execution_count": 33,
   "metadata": {},
   "outputs": [
    {
     "data": {
      "image/png": "[encoded data removed]",
      "text/plain": [
       "<Figure size 1600x400 with 4 Axes>"
      ]
     },
     "metadata": {},
     "output_type": "display_data"
    }
   ],
   "source": [
    "plot_fold_statistics(df)"
   ]
  },
  {
   "cell_type": "code",
   "execution_count": 35,
   "metadata": {},
   "outputs": [
    {
     "name": "stdout",
     "output_type": "stream",
     "text": [
      "No overlap between df1 and df2.\n",
      "No overlap between df1 and df3.\n",
      "No overlap between df1 and df4.\n",
      "No overlap between df2 and df3.\n",
      "No overlap between df2 and df4.\n",
      "No overlap between df3 and df4.\n"
     ]
    }
   ],
   "source": [
    "check_overlap(df, 'patient_id')"
   ]
  }
 ],
 "metadata": {
  "kernelspec": {
   "display_name": "gigassl",
   "language": "python",
   "name": "python3"
  },
  "language_info": {
   "codemirror_mode": {
    "name": "ipython",
    "version": 3
   },
   "file_extension": ".py",
   "mimetype": "text/x-python",
   "name": "python",
   "nbconvert_exporter": "python",
   "pygments_lexer": "ipython3",
   "version": "3.10.13"
  }
 },
 "nbformat": 4,
 "nbformat_minor": 2
}
