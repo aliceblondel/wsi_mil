{
 "cells": [
  {
   "cell_type": "markdown",
   "metadata": {},
   "source": [
    "## Train"
   ]
  },
  {
   "cell_type": "code",
   "execution_count": 7,
   "metadata": {},
   "outputs": [
    {
     "name": "stdout",
     "output_type": "stream",
     "text": [
      "The autoreload extension is already loaded. To reload it, use:\n",
      "  %reload_ext autoreload\n"
     ]
    }
   ],
   "source": [
    "%load_ext autoreload"
   ]
  },
  {
   "cell_type": "code",
   "execution_count": 9,
   "metadata": {},
   "outputs": [],
   "source": [
    "%autoreload \n",
    "from pkg.wsi_mil.deepmil.train import main as train\n",
    "from pkg.wsi_mil.deepmil.writes_results_cross_val import main as writes_validation_results\n",
    "from pkg.wsi_mil.deepmil.writes_final_results import main as writes_test_results\n",
    "import pandas as pd\n",
    "import os\n",
    "import datetime\n",
    "import subprocess\n",
    "import shutil\n",
    "from argparse import ArgumentParser\n",
    "import yaml\n"
   ]
  },
  {
   "cell_type": "code",
   "execution_count": null,
   "metadata": {},
   "outputs": [],
   "source": [
    "out = './outputs'\n",
    "name = './local_test_new'\n",
    "reps = 10\n",
    "config = 'config_default.yaml'\n",
    "n_ensemble = 1"
   ]
  },
  {
   "cell_type": "code",
   "execution_count": null,
   "metadata": {},
   "outputs": [],
   "source": [
    "if name is None:\n",
    "    name = datetime.date.today().strftime('%Y_%m_%d')\n",
    "out = os.path.abspath(out)\n",
    "out = os.path.join(out, name)\n",
    "config = os.path.abspath(config)\n",
    "os.makedirs(out, exist_ok=True)\n",
    "shutil.copy(config, os.path.join(out, 'config.yaml'))\n",
    "with open(config, 'r') as f:\n",
    "    dic = yaml.safe_load(f)\n",
    "table = pd.read_csv(dic['table_data'])\n",
    "tests = len(set(table['test'].values)) \n",
    "for test in range(tests):\n",
    "    for rep in range(reps):\n",
    "        raw_args = [\n",
    "                '--config', config, \n",
    "                '--repeat', f'{rep}', \n",
    "                '--test_fold', f'{test}', \n",
    "                ]\n",
    "        wd = os.path.join(out, f'test_{test}', f'rep_{rep}')\n",
    "        os.makedirs(wd, exist_ok=True)\n",
    "        os.chdir(wd)\n",
    "        train(raw_args=raw_args)\n",
    "\n",
    "# Root of experiment.\n",
    "os.chdir(out)\n",
    "raw_args = ['--n_ensemble', f'{n_ensemble}']\n",
    "writes_validation_results(raw_args)\n",
    "writes_test_results([])"
   ]
  },
  {
   "cell_type": "markdown",
   "metadata": {},
   "source": [
    "## Plot results"
   ]
  },
  {
   "cell_type": "code",
   "execution_count": 15,
   "metadata": {},
   "outputs": [],
   "source": [
    "import pandas as pd\n",
    "import warnings\n",
    "warnings.filterwarnings('always')"
   ]
  },
  {
   "cell_type": "code",
   "execution_count": 22,
   "metadata": {},
   "outputs": [
    {
     "data": {
      "text/html": [
       "<div>\n",
       "<style scoped>\n",
       "    .dataframe tbody tr th:only-of-type {\n",
       "        vertical-align: middle;\n",
       "    }\n",
       "\n",
       "    .dataframe tbody tr th {\n",
       "        vertical-align: top;\n",
       "    }\n",
       "\n",
       "    .dataframe thead th {\n",
       "        text-align: right;\n",
       "    }\n",
       "</style>\n",
       "<table border=\"1\" class=\"dataframe\">\n",
       "  <thead>\n",
       "    <tr style=\"text-align: right;\">\n",
       "      <th></th>\n",
       "      <th>prediction</th>\n",
       "      <th>target</th>\n",
       "    </tr>\n",
       "  </thead>\n",
       "  <tbody>\n",
       "    <tr>\n",
       "      <th>0</th>\n",
       "      <td>Ba.Sq</td>\n",
       "      <td>Ba.Sq</td>\n",
       "    </tr>\n",
       "    <tr>\n",
       "      <th>1</th>\n",
       "      <td>Ba.Sq</td>\n",
       "      <td>Ba.Sq</td>\n",
       "    </tr>\n",
       "    <tr>\n",
       "      <th>2</th>\n",
       "      <td>Stroma.rich</td>\n",
       "      <td>Ba.Sq</td>\n",
       "    </tr>\n",
       "    <tr>\n",
       "      <th>3</th>\n",
       "      <td>LumU</td>\n",
       "      <td>LumU</td>\n",
       "    </tr>\n",
       "    <tr>\n",
       "      <th>4</th>\n",
       "      <td>Ba.Sq</td>\n",
       "      <td>Ba.Sq</td>\n",
       "    </tr>\n",
       "    <tr>\n",
       "      <th>...</th>\n",
       "      <td>...</td>\n",
       "      <td>...</td>\n",
       "    </tr>\n",
       "    <tr>\n",
       "      <th>403</th>\n",
       "      <td>LumU</td>\n",
       "      <td>Ba.Sq</td>\n",
       "    </tr>\n",
       "    <tr>\n",
       "      <th>404</th>\n",
       "      <td>LumU</td>\n",
       "      <td>LumU</td>\n",
       "    </tr>\n",
       "    <tr>\n",
       "      <th>405</th>\n",
       "      <td>LumP</td>\n",
       "      <td>LumU</td>\n",
       "    </tr>\n",
       "    <tr>\n",
       "      <th>406</th>\n",
       "      <td>Ba.Sq</td>\n",
       "      <td>Ba.Sq</td>\n",
       "    </tr>\n",
       "    <tr>\n",
       "      <th>407</th>\n",
       "      <td>Stroma.rich</td>\n",
       "      <td>Ba.Sq</td>\n",
       "    </tr>\n",
       "  </tbody>\n",
       "</table>\n",
       "<p>408 rows × 2 columns</p>\n",
       "</div>"
      ],
      "text/plain": [
       "      prediction target\n",
       "0          Ba.Sq  Ba.Sq\n",
       "1          Ba.Sq  Ba.Sq\n",
       "2    Stroma.rich  Ba.Sq\n",
       "3           LumU   LumU\n",
       "4          Ba.Sq  Ba.Sq\n",
       "..           ...    ...\n",
       "403         LumU  Ba.Sq\n",
       "404         LumU   LumU\n",
       "405         LumP   LumU\n",
       "406        Ba.Sq  Ba.Sq\n",
       "407  Stroma.rich  Ba.Sq\n",
       "\n",
       "[408 rows x 2 columns]"
      ]
     },
     "execution_count": 22,
     "metadata": {},
     "output_type": "execute_result"
    }
   ],
   "source": [
    "results_path = \"/Users/aliceblondel/Desktop/wsi_mil/outputs/local_exp_1_1000_epoch/RESULTS_BEST_VAL_LOSS/results_table.csv\"\n",
    "df = pd.read_csv(results_path)\n",
    "df[[\"prediction\", \"target\"]]"
   ]
  },
  {
   "cell_type": "code",
   "execution_count": 27,
   "metadata": {},
   "outputs": [
    {
     "data": {
      "text/plain": [
       "Text(0.5, 1.0, 'Confusion Matrix')"
      ]
     },
     "execution_count": 27,
     "metadata": {},
     "output_type": "execute_result"
    },
    {
     "data": {
      "image/png": "[encoded data removed]",
      "text/plain": [
       "<Figure size 500x500 with 1 Axes>"
      ]
     },
     "metadata": {},
     "output_type": "display_data"
    }
   ],
   "source": [
    "import matplotlib.pyplot as plt\n",
    "import seaborn as sns\n",
    "import numpy as np\n",
    "from sklearn.metrics import confusion_matrix\n",
    "\n",
    "class_names = ['Ba.Sq', 'LumU', 'Stroma.rich', 'LumP','LumNS', 'NE.like',]\n",
    "conf_matrix = confusion_matrix(\n",
    "    df[\"target\"], \n",
    "    df[\"prediction\"],\n",
    "    labels=class_names,\n",
    ")\n",
    "# conf_matrix = conf_matrix.astype('float') / conf_matrix.sum(axis=1)[:, np.newaxis]\n",
    "\n",
    "fig = plt.figure(figsize=(5, 5))\n",
    "heatmap = sns.heatmap(conf_matrix, annot=True, fmt=\".0f\", cmap=\"Blues\", cbar=False,\n",
    "            xticklabels=class_names, yticklabels=class_names)\n",
    "plt.xlabel('Predicted Label')\n",
    "plt.ylabel('True Label')\n",
    "plt.title('Confusion Matrix')\n"
   ]
  },
  {
   "cell_type": "code",
   "execution_count": 21,
   "metadata": {},
   "outputs": [
    {
     "data": {
      "text/plain": [
       "{'Ba.Sq': {'precision': 0.610062893081761,\n",
       "  'recall': 0.6736111111111112,\n",
       "  'f1-score': 0.6402640264026402,\n",
       "  'support': 144.0},\n",
       " 'LumNS': {'precision': 0.11764705882352941,\n",
       "  'recall': 0.08695652173913043,\n",
       "  'f1-score': 0.09999999999999999,\n",
       "  'support': 23.0},\n",
       " 'LumP': {'precision': 0.24390243902439024,\n",
       "  'recall': 0.17543859649122806,\n",
       "  'f1-score': 0.2040816326530612,\n",
       "  'support': 57.0},\n",
       " 'LumU': {'precision': 0.42592592592592593,\n",
       "  'recall': 0.5054945054945055,\n",
       "  'f1-score': 0.4623115577889447,\n",
       "  'support': 91.0},\n",
       " 'NE.like': {'precision': 0.0, 'recall': 0.0, 'f1-score': 0.0, 'support': 4.0},\n",
       " 'Stroma.rich': {'precision': 0.4444444444444444,\n",
       "  'recall': 0.4044943820224719,\n",
       "  'f1-score': 0.4235294117647059,\n",
       "  'support': 89.0},\n",
       " 'accuracy': 0.4681372549019608,\n",
       " 'macro avg': {'precision': 0.30699712688334185,\n",
       "  'recall': 0.3076658528097412,\n",
       "  'f1-score': 0.30503110476822537,\n",
       "  'support': 408.0},\n",
       " 'weighted avg': {'precision': 0.44797106077431326,\n",
       "  'recall': 0.4681372549019608,\n",
       "  'f1-score': 0.4556253486986702,\n",
       "  'support': 408.0}}"
      ]
     },
     "execution_count": 21,
     "metadata": {},
     "output_type": "execute_result"
    }
   ],
   "source": [
    "from sklearn.metrics import classification_report\n",
    "\n",
    "d = classification_report(df[\"target\"], df[\"prediction\"],  output_dict=True, zero_division=0)\n",
    "d"
   ]
  },
  {
   "cell_type": "code",
   "execution_count": null,
   "metadata": {},
   "outputs": [],
   "source": []
  }
 ],
 "metadata": {
  "kernelspec": {
   "display_name": "gigassl",
   "language": "python",
   "name": "python3"
  },
  "language_info": {
   "codemirror_mode": {
    "name": "ipython",
    "version": 3
   },
   "file_extension": ".py",
   "mimetype": "text/x-python",
   "name": "python",
   "nbconvert_exporter": "python",
   "pygments_lexer": "ipython3",
   "version": "3.9.13"
  }
 },
 "nbformat": 4,
 "nbformat_minor": 2
}
